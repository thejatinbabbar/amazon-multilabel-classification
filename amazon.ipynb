{
  "cells": [
    {
      "metadata": {
        "_uuid": "8f2839f25d086af736a60e9eeb907d3b93b6e0e5",
        "_cell_guid": "b1076dfc-b9ad-4769-8c92-a6c4dae69d19",
        "trusted": true
      },
      "cell_type": "code",
      "source": "#Necessary imports\nimport numpy as np\nimport pandas as pd\nimport tensorflow as tf\nfrom tensorflow.python.keras.applications.vgg19 import VGG19\nfrom tensorflow.python.keras.models import Sequential, Model\nfrom tensorflow.python.keras.layers import Dense, Flatten, GlobalAveragePooling2D\nfrom tensorflow.python.keras.preprocessing.image import ImageDataGenerator\nfrom sklearn.model_selection import train_test_split",
      "execution_count": null,
      "outputs": []
    },
    {
      "metadata": {
        "_uuid": "8f2839f25d086af736a60e9eeb907d3b93b6e0e5",
        "_cell_guid": "b1076dfc-b9ad-4769-8c92-a6c4dae69d19",
        "trusted": true
      },
      "cell_type": "code",
      "source": "#Storing dataset containg names into a dataframe\ndf=pd.read_csv(\"../input/train_v2.csv\")\ndf['tags']=df['tags'].map(lambda x: x.split(' '))",
      "execution_count": null,
      "outputs": []
    },
    {
      "metadata": {
        "_uuid": "8f2839f25d086af736a60e9eeb907d3b93b6e0e5",
        "_cell_guid": "b1076dfc-b9ad-4769-8c92-a6c4dae69d19",
        "trusted": true
      },
      "cell_type": "code",
      "source": "#Seventeen labels stored in list “classes”\nclasses=['haze','primary','agriculture','clear','water','road','habitation','cultivation',\n'slash_burn','cloudy','partly_cloudy','blow_down','conventional_mine','artisinal_mine',\n'blooming','selective_logging','bare_ground']\nnew_df=pd.DataFrame(0,columns=classes,index=range(40479))",
      "execution_count": null,
      "outputs": []
    },
    {
      "metadata": {
        "_uuid": "8f2839f25d086af736a60e9eeb907d3b93b6e0e5",
        "_cell_guid": "b1076dfc-b9ad-4769-8c92-a6c4dae69d19",
        "trusted": true
      },
      "cell_type": "code",
      "source": "#Creation of concatenated dataframe\nconcat_df=pd.concat([df,new_df], axis=1,join='inner')\nconcat_df.head()\nl=0\nfor i in concat_df['tags']:\n    for k in i:\n        concat_df.loc[l,k]=1\n    l=l+1",
      "execution_count": null,
      "outputs": []
    },
    {
      "metadata": {
        "_uuid": "8f2839f25d086af736a60e9eeb907d3b93b6e0e5",
        "_cell_guid": "b1076dfc-b9ad-4769-8c92-a6c4dae69d19",
        "trusted": true
      },
      "cell_type": "code",
      "source": "#Splitting labels into train and validation sets\ntrain_labels,validation_labels=train_test_split(concat_df,test_size=0.2)\nfile_path=\"../input/train-jpg\"\ntrainfile_paths=[]\nvalidation_paths=[]\nfor i in train_labels['image_name']:\n    trainfile_paths.append(file_path+\"/\"+i+\".jpg\")\nfor i in validation_labels['image_name']:\n    validation_paths.append(file_path+\"/\"+i+\".jpg\")",
      "execution_count": null,
      "outputs": []
    },
    {
      "metadata": {
        "_uuid": "8f2839f25d086af736a60e9eeb907d3b93b6e0e5",
        "_cell_guid": "b1076dfc-b9ad-4769-8c92-a6c4dae69d19",
        "trusted": true
      },
      "cell_type": "code",
      "source": "#Getting generators\ndef get_data_iter(data_gen, img_size, labels_df, img_list, batch_size, shuffle):\n    generator = data_gen.flow_from_directory(directory = file_path, target_size=(img_size,img_size),\n                                            class_mode = 'sparse', batch_size=batch_size, shuffle=shuffle)\n    generator.filenames = img_list\n    generator.classes = labels_df.iloc[:,2:].values\n    generator.samples = labels_df.iloc[:,2:].values.shape[0]\n    generator.n = labels_df.iloc[:,2:].values.shape[0]\n    generator.directory = ''\n    generator._set_index_array()\n    return generator\n\ndata_generator_aug = ImageDataGenerator(rescale = 1./255, vertical_flip = True,\n                                        horizontal_flip = True, height_shift_range = 0.1,\n                                        width_shift_range = 0.1, rotation_range =10)\ndata_generator_no_aug = ImageDataGenerator(rescale = 1./255)\nimg_size = 64",
      "execution_count": null,
      "outputs": []
    },
    {
      "metadata": {
        "_uuid": "8f2839f25d086af736a60e9eeb907d3b93b6e0e5",
        "_cell_guid": "b1076dfc-b9ad-4769-8c92-a6c4dae69d19",
        "trusted": true
      },
      "cell_type": "code",
      "source": "#Creating train and validation generators\ntrain_gen = get_data_iter(data_generator_aug,img_size,train_labels,trainfile_paths,64,shuffle=False)\nvalid_gen = get_data_iter(data_generator_no_aug,img_size,validation_labels,validation_paths,128,shuffle=False)\nimgs,label_values= next(train_gen)",
      "execution_count": null,
      "outputs": []
    },
    {
      "metadata": {
        "_uuid": "8f2839f25d086af736a60e9eeb907d3b93b6e0e5",
        "_cell_guid": "b1076dfc-b9ad-4769-8c92-a6c4dae69d19",
        "trusted": true
      },
      "cell_type": "code",
      "source": "#Creating a new model\nmy_new_model=Sequential()\nvgg_weights_path = '../input/vgg19-weights/vgg19_weights_tf_dim_ordering_tf_kernels_notop.h5'",
      "execution_count": null,
      "outputs": []
    },
    {
      "metadata": {
        "_uuid": "8f2839f25d086af736a60e9eeb907d3b93b6e0e5",
        "_cell_guid": "b1076dfc-b9ad-4769-8c92-a6c4dae69d19",
        "trusted": true
      },
      "cell_type": "code",
      "source": "#Defining model layers\nvgg19 = VGG19(include_top=False,input_shape=(img_size,img_size,3), weights=vgg_weights_path)\nbase_model = vgg19\nx = base_model.output\nx = Flatten()(x)\npredictions = Dense(17, activation = 'sigmoid')(x)\nmy_new_model = Model(inputs = base_model.input, outputs = predictions)\nfor i in range(0,17) :\n    my_new_model.layers[i].trainable = False\nfor i, layer in enumerate(my_new_model.layers):\n    print(i, layer.name, layer.trainable)",
      "execution_count": null,
      "outputs": []
    },
    {
      "metadata": {
        "_uuid": "8f2839f25d086af736a60e9eeb907d3b93b6e0e5",
        "_cell_guid": "b1076dfc-b9ad-4769-8c92-a6c4dae69d19",
        "trusted": true
      },
      "cell_type": "code",
      "source": "#Generating F2 score\ndef f2_score(y_true, y_pred):\n    y_true = tf.cast(y_true, \"int32\")\n    y_pred = tf.cast(tf.round(y_pred), \"int32\") # implicit 0.5 threshold via tf.round\n    y_correct = y_true * y_pred\n    sum_true = tf.reduce_sum(y_true, axis=1)\n    sum_pred = tf.reduce_sum(y_pred, axis=1)\n    sum_correct = tf.reduce_sum(y_correct, axis=1)\n    precision = sum_correct / sum_pred\n    recall = sum_correct / sum_true\n    f_score = 5 * precision * recall / (4 * precision + recall)\n    f_score = tf.where(tf.is_nan(f_score), tf.zeros_like(f_score), f_score)\n    return tf.reduce_mean(f_score)",
      "execution_count": null,
      "outputs": []
    },
    {
      "metadata": {
        "_uuid": "8f2839f25d086af736a60e9eeb907d3b93b6e0e5",
        "_cell_guid": "b1076dfc-b9ad-4769-8c92-a6c4dae69d19",
        "trusted": true
      },
      "cell_type": "code",
      "source": "#Compiling the model\nmy_new_model.compile(optimizer='adam',loss='binary_crossentropy', metrics =[f2_score])",
      "execution_count": null,
      "outputs": []
    },
    {
      "metadata": {
        "_uuid": "8f2839f25d086af736a60e9eeb907d3b93b6e0e5",
        "_cell_guid": "b1076dfc-b9ad-4769-8c92-a6c4dae69d19",
        "trusted": true
      },
      "cell_type": "code",
      "source": "#Fitting the model\nmy_new_model.fit_generator(train_gen,steps_per_epoch=506,epochs=20,verbose=1,\n                            validation_data=valid_gen,validation_steps=127,workers=4)",
      "execution_count": null,
      "outputs": []
    },
    {
      "metadata": {
        "_uuid": "8f2839f25d086af736a60e9eeb907d3b93b6e0e5",
        "_cell_guid": "b1076dfc-b9ad-4769-8c92-a6c4dae69d19",
        "trusted": true
      },
      "cell_type": "code",
      "source": "#Checking on test file\ntest_dir_path = '..input/test-jpg-v2'\ntest_images_names = os.listdir(test_dir_path)\ntest_images_paths = [os.path.join(test_dir_path, img_name) for img_name in test_images_names]\ntest_data_gen = ImageDataGenerator(rescale = 1./255)\ntest_generator = data_gen.flow_from_directory(directory=file_path,target_size=(img_size,img_size),\n                                            class_mode='sparse',batch_size=batch_size,shuffle=shuffle)\ntest_generator.filenames = test_images_paths\ntest_generator.n = len(test_images_paths)\ntest_generator.directory = ''\ntest_generator._set_index_array()\npredictions = my_new_model.predict_generator(test_generator, verbose = 1)\npredictions = np.rint(predictions)",
      "execution_count": null,
      "outputs": []
    },
    {
      "metadata": {
        "_uuid": "8f2839f25d086af736a60e9eeb907d3b93b6e0e5",
        "_cell_guid": "b1076dfc-b9ad-4769-8c92-a6c4dae69d19",
        "trusted": true
      },
      "cell_type": "code",
      "source": "#Creation of a csv file containg labels for test set images\ntest_images_series = pd.Series([test_image_name.split('.')[0] for test_image_name in test_images_names])\nprint(test_images_series.head())",
      "execution_count": null,
      "outputs": []
    }
  ],
  "metadata": {
    "kernelspec": {
      "display_name": "Python 3",
      "language": "python",
      "name": "python3"
    },
    "language_info": {
      "name": "python",
      "version": "3.6.6",
      "mimetype": "text/x-python",
      "codemirror_mode": {
        "name": "ipython",
        "version": 3
      },
      "pygments_lexer": "ipython3",
      "nbconvert_exporter": "python",
      "file_extension": ".py"
    }
  },
  "nbformat": 4,
  "nbformat_minor": 1
}